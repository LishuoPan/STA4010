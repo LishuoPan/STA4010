{
 "cells": [
  {
   "cell_type": "code",
   "execution_count": 1,
   "metadata": {},
   "outputs": [],
   "source": [
    "# import the basic packages for the problem\n",
    "# no fancy packages.\n",
    "import numpy as np\n",
    "from sklearn import tree"
   ]
  },
  {
   "cell_type": "code",
   "execution_count": 2,
   "metadata": {},
   "outputs": [
    {
     "name": "stdout",
     "output_type": "stream",
     "text": [
      "the size of the training dataset is: (4000, 10)\n",
      "(4000,)\n",
      "the size of the testing dataset is: (400, 10)\n",
      "(400,)\n"
     ]
    }
   ],
   "source": [
    "# fix the seed\n",
    "np.random.seed(1)\n",
    "## generate the dataset\n",
    "# the dimension and size of the data\n",
    "p = 10\n",
    "n_train = 2000\n",
    "n_test = 200\n",
    "\n",
    "\n",
    "# two distribution we sample data from\n",
    "mu1 = np.repeat(0.5,p)\n",
    "sigma1 = np.eye(p)\n",
    "mu2 = np.repeat(-0.5,p)\n",
    "sigma2 = np.eye(p)\n",
    "\n",
    "# construct the training dataset\n",
    "train_x1 = np.random.multivariate_normal(mu1,sigma1,n_train)\n",
    "train_y1 = np.repeat(1,n_train)\n",
    "\n",
    "train_x2 = np.random.multivariate_normal(mu2,sigma2,n_train)\n",
    "train_y2 = np.repeat(-1,n_train)\n",
    "\n",
    "train_x = np.vstack((train_x1,train_x2))\n",
    "train_y = np.hstack((train_y1,train_y2))\n",
    "\n",
    "print('the size of the training dataset is:',train_x.shape)\n",
    "print(train_y.shape)\n",
    "\n",
    "# constructing the testing dataset\n",
    "test_x1 = np.random.multivariate_normal(mu1,sigma1,n_test)\n",
    "test_y1 = np.repeat(1,n_test)\n",
    "\n",
    "test_x2 = np.random.multivariate_normal(mu2,sigma2,n_test)\n",
    "test_y2 = np.repeat(-1,n_test)\n",
    "\n",
    "test_x = np.vstack((test_x1,test_x2))\n",
    "test_y = np.hstack((test_y1,test_y2))\n",
    "\n",
    "print('the size of the testing dataset is:',test_x.shape)\n",
    "print(test_y.shape)\n"
   ]
  },
  {
   "cell_type": "code",
   "execution_count": 6,
   "metadata": {},
   "outputs": [
    {
     "name": "stdout",
     "output_type": "stream",
     "text": [
      "[-1  1] 2\n"
     ]
    }
   ],
   "source": [
    "element = np.unique(train_y)\n",
    "K = len(element)\n",
    "print(element,K)"
   ]
  },
  {
   "cell_type": "code",
   "execution_count": 52,
   "metadata": {},
   "outputs": [
    {
     "ename": "SyntaxError",
     "evalue": "invalid syntax (<ipython-input-52-498c526eabc1>, line 27)",
     "output_type": "error",
     "traceback": [
      "\u001b[0;36m  File \u001b[0;32m\"<ipython-input-52-498c526eabc1>\"\u001b[0;36m, line \u001b[0;32m27\u001b[0m\n\u001b[0;31m    def p(f,x)\u001b[0m\n\u001b[0m              ^\u001b[0m\n\u001b[0;31mSyntaxError\u001b[0m\u001b[0;31m:\u001b[0m invalid syntax\n"
     ]
    }
   ],
   "source": [
    "# Here I define a class as an agent to do\n",
    "# Gradient Boosting for K-Class Classification\n",
    "class K_GBoost(self):\n",
    "    def __init__(self,X,y,M,init,element):\n",
    "        # Input:\n",
    "        # X: X train matrix dimention: n by d\n",
    "        # y: y train: n by 1\n",
    "        # M: integer, the loop number\n",
    "        # init: initial f vector: K by 1\n",
    "        self.X = X\n",
    "        self.y = y\n",
    "        self.Max_iter = M\n",
    "        self.init = init\n",
    "        self.K = X.shape[1]\n",
    "        self.element = element\n",
    "        \n",
    "        \n",
    "    @staticmethod \n",
    "    # this function is weighted sum\n",
    "    def f_val(f_set, X):\n",
    "        f = 0\n",
    "        for i in range(len(f_set)):\n",
    "            # make sure the return is column vector\n",
    "            f += f_set[i].predict(X).reshape(-1,1)\n",
    "        return f\n",
    "    \n",
    "    @staticmethod\n",
    "    # this method is aimed to \n",
    "    def p(f)\n",
    "        return np.exp(f) / sum(np.exp(f))\n",
    "    \n",
    "    @staticmethod\n",
    "    # this funtion is aimed to convert the y vector\n",
    "    # into the indicator vector\n",
    "    def t_indicator(y, k, element):\n",
    "        targat = element[k]\n",
    "        \n",
    "        index = y == targat\n",
    "        y[index] = 1\n",
    "        rev = np.array([not i for i in index]).reshape(-1,1)\n",
    "        y[rev] = -1\n",
    "\n",
    "        \n",
    "        return \n",
    "    \n",
    "    def fit(self):\n",
    "        # initial the f\n",
    "        f = self.init\n",
    "        # f_set is a collection of classifier\n",
    "        f_set = list()\n",
    "        # add the init classifier to the f_set, return 0 column\n",
    "        f_set.append(lambda X: np.zeros(X.shape[0]).reshape(-1,1))\n",
    "        \n",
    "        for i in range(self.Max_iter):\n",
    "            f = f_val(f_set, self.X)\n",
    "            # set p_k\n",
    "            p = p(f)\n",
    "            \n",
    "            for k in range(self.K):\n",
    "                y_k = y_indicator(self.y, k, self.element)\n",
    "                r = y_k - p\n",
    "                \n",
    "    def predict(self,X):\n",
    "        "
   ]
  },
  {
   "cell_type": "code",
   "execution_count": 21,
   "metadata": {},
   "outputs": [
    {
     "name": "stdout",
     "output_type": "stream",
     "text": [
      "[[1 3 4]\n",
      " [2 5 6]]\n",
      "3\n",
      "[0.]\n",
      "[[1]\n",
      " [2]\n",
      " [3]]\n",
      "[[ 2.71828183]\n",
      " [ 7.3890561 ]\n",
      " [20.08553692]]\n"
     ]
    },
    {
     "ename": "TypeError",
     "evalue": "'int' object is not subscriptable",
     "output_type": "error",
     "traceback": [
      "\u001b[0;31m---------------------------------------------------------------------------\u001b[0m",
      "\u001b[0;31mTypeError\u001b[0m                                 Traceback (most recent call last)",
      "\u001b[0;32m<ipython-input-21-b61c4b996325>\u001b[0m in \u001b[0;36m<module>\u001b[0;34m()\u001b[0m\n\u001b[1;32m      7\u001b[0m \u001b[0mprint\u001b[0m\u001b[0;34m(\u001b[0m\u001b[0ma\u001b[0m\u001b[0;34m)\u001b[0m\u001b[0;34m\u001b[0m\u001b[0m\n\u001b[1;32m      8\u001b[0m \u001b[0mprint\u001b[0m\u001b[0;34m(\u001b[0m\u001b[0mnp\u001b[0m\u001b[0;34m.\u001b[0m\u001b[0mexp\u001b[0m\u001b[0;34m(\u001b[0m\u001b[0ma\u001b[0m\u001b[0;34m)\u001b[0m\u001b[0;34m)\u001b[0m\u001b[0;34m\u001b[0m\u001b[0m\n\u001b[0;32m----> 9\u001b[0;31m \u001b[0;36m0\u001b[0m\u001b[0;34m[\u001b[0m\u001b[0;36m1\u001b[0m\u001b[0;34m]\u001b[0m\u001b[0;34m\u001b[0m\u001b[0m\n\u001b[0m",
      "\u001b[0;31mTypeError\u001b[0m: 'int' object is not subscriptable"
     ]
    }
   ],
   "source": [
    "X = np.array([[1,3,4],[2,5,6]])\n",
    "print(X)\n",
    "print(X.shape[1])\n",
    "z = np.zeros(3).reshape(-1,1)\n",
    "print(z[1])\n",
    "a = np.array([1,2,3]).reshape(-1,1)\n",
    "print(a)\n",
    "print(np.exp(a))\n"
   ]
  },
  {
   "cell_type": "code",
   "execution_count": 38,
   "metadata": {},
   "outputs": [
    {
     "name": "stdout",
     "output_type": "stream",
     "text": [
      "[0.5]\n",
      "[[0.5]\n",
      " [0.5]]\n",
      "[0.5]\n",
      "\n"
     ]
    }
   ],
   "source": [
    "X = [[0, 0,0], [2, 2,2]]\n",
    "y = [0.5, 2.5]\n",
    "clf1 = tree.DecisionTreeRegressor()\n",
    "clf1 = clf1.fit(X, y)\n",
    "print(clf1.predict([[1, 1,1]]))\n",
    "\n",
    "clf2 = tree.DecisionTreeRegressor()\n",
    "clf2 = clf2.fit(X, y)\n",
    "print(clf2.predict([[1, 1,1],[1,1,1]]).reshape(-1,1))\n",
    "\n",
    "clf = list()\n",
    "clf.append(clf1)\n",
    "clf.append(clf2)\n",
    "a  = clf[0].predict([[1,1,1]])\n",
    "print(a)\n",
    "\n",
    "\n",
    "print()"
   ]
  },
  {
   "cell_type": "code",
   "execution_count": 51,
   "metadata": {},
   "outputs": [
    {
     "name": "stdout",
     "output_type": "stream",
     "text": [
      "[[0.]\n",
      " [0.]]\n"
     ]
    }
   ],
   "source": [
    "f_set = list()\n",
    "f_set.append(lambda X: np.zeros(X.shape[0]).reshape(-1,1))\n",
    "print(f_set[0](np.array([[1,2,3],[2,3,4]])))"
   ]
  },
  {
   "cell_type": "code",
   "execution_count": 3,
   "metadata": {},
   "outputs": [
    {
     "data": {
      "text/plain": [
       "array([ 1,  1,  1, ..., -1, -1, -1])"
      ]
     },
     "execution_count": 3,
     "metadata": {},
     "output_type": "execute_result"
    }
   ],
   "source": [
    "train_y"
   ]
  },
  {
   "cell_type": "code",
   "execution_count": 33,
   "metadata": {},
   "outputs": [
    {
     "name": "stdout",
     "output_type": "stream",
     "text": [
      "[[ 1]\n",
      " [ 1]\n",
      " [ 1]\n",
      " [-1]\n",
      " [-1]\n",
      " [-1]\n",
      " [ 1]]\n",
      "[[ True]\n",
      " [ True]\n",
      " [ True]\n",
      " [False]\n",
      " [False]\n",
      " [False]\n",
      " [ True]]\n",
      "[[ 1]\n",
      " [ 1]\n",
      " [ 1]\n",
      " [-1]\n",
      " [-1]\n",
      " [-1]\n",
      " [ 1]]\n",
      "[[False]\n",
      " [False]\n",
      " [False]\n",
      " [ True]\n",
      " [ True]\n",
      " [ True]\n",
      " [False]]\n",
      "[[ 1]\n",
      " [ 1]\n",
      " [ 1]\n",
      " [-1]\n",
      " [-1]\n",
      " [-1]\n",
      " [ 1]]\n"
     ]
    }
   ],
   "source": [
    "a = np.array([1,1,1,-1,-1,-1,1]).reshape(-1,1)\n",
    "print(a)\n",
    "index = a == 1\n",
    "print(index)\n",
    "a[index] = 1\n",
    "print(a)\n",
    "rev = np.array([not i for i in index]).reshape(-1,1)\n",
    "print(rev)\n",
    "a[rev] = -1\n",
    "print(a)"
   ]
  },
  {
   "cell_type": "code",
   "execution_count": null,
   "metadata": {},
   "outputs": [],
   "source": []
  }
 ],
 "metadata": {
  "kernelspec": {
   "display_name": "Python 3",
   "language": "python",
   "name": "python3"
  },
  "language_info": {
   "codemirror_mode": {
    "name": "ipython",
    "version": 3
   },
   "file_extension": ".py",
   "mimetype": "text/x-python",
   "name": "python",
   "nbconvert_exporter": "python",
   "pygments_lexer": "ipython3",
   "version": "3.6.4"
  },
  "varInspector": {
   "cols": {
    "lenName": 16,
    "lenType": 16,
    "lenVar": 40
   },
   "kernels_config": {
    "python": {
     "delete_cmd_postfix": "",
     "delete_cmd_prefix": "del ",
     "library": "var_list.py",
     "varRefreshCmd": "print(var_dic_list())"
    },
    "r": {
     "delete_cmd_postfix": ") ",
     "delete_cmd_prefix": "rm(",
     "library": "var_list.r",
     "varRefreshCmd": "cat(var_dic_list()) "
    }
   },
   "types_to_exclude": [
    "module",
    "function",
    "builtin_function_or_method",
    "instance",
    "_Feature"
   ],
   "window_display": false
  }
 },
 "nbformat": 4,
 "nbformat_minor": 2
}
